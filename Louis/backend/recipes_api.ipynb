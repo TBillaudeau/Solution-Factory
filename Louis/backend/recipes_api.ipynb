{
 "cells": [
  {
   "cell_type": "code",
   "execution_count": 34,
   "metadata": {},
   "outputs": [],
   "source": [
    "KEY = '16aa28a5518b47c2a54cadad4bead10e'"
   ]
  },
  {
   "cell_type": "code",
   "execution_count": 35,
   "metadata": {},
   "outputs": [],
   "source": [
    "import json\n",
    "import requests"
   ]
  },
  {
   "cell_type": "code",
   "execution_count": 36,
   "metadata": {},
   "outputs": [],
   "source": [
    "\n",
    "#! To get a random recipe\n",
    "# url = \"https://api.spoonacular.com/recipes/random?number=1&tags=vegetarian,dessert&apiKey=\" + KEY\n",
    "\n",
    "#! To get multiples recipes\n",
    "url = \"https://api.spoonacular.com/recipes/random?number=100&tags=main course&apiKey=\" + KEY\n",
    "\n",
    "# url = \"https://api.spoonacular.com/recipes/complexSearch?number=10&sort=healthiness60&apiKey=\" + KEY\n"
   ]
  },
  {
   "cell_type": "code",
   "execution_count": 37,
   "metadata": {},
   "outputs": [],
   "source": [
    "try:\n",
    "    api_request = requests.get(url)\n",
    "    data = json.loads(api_request.content)\n",
    "except Exception as e:\n",
    "    print(\"ERROR: \" + str(e))"
   ]
  },
  {
   "cell_type": "code",
   "execution_count": 38,
   "metadata": {},
   "outputs": [],
   "source": [
    "\n",
    "#! Add data to a new json file\n",
    "with open('recipes.json', 'w') as f: \n",
    "    json.dump(data, f, indent=4)"
   ]
  },
  {
   "cell_type": "code",
   "execution_count": 42,
   "metadata": {},
   "outputs": [
    {
     "data": {
      "text/html": [
       "<div>\n",
       "<style scoped>\n",
       "    .dataframe tbody tr th:only-of-type {\n",
       "        vertical-align: middle;\n",
       "    }\n",
       "\n",
       "    .dataframe tbody tr th {\n",
       "        vertical-align: top;\n",
       "    }\n",
       "\n",
       "    .dataframe thead th {\n",
       "        text-align: right;\n",
       "    }\n",
       "</style>\n",
       "<table border=\"1\" class=\"dataframe\">\n",
       "  <thead>\n",
       "    <tr style=\"text-align: right;\">\n",
       "      <th></th>\n",
       "      <th>vegetarian</th>\n",
       "      <th>vegan</th>\n",
       "      <th>glutenFree</th>\n",
       "      <th>dairyFree</th>\n",
       "      <th>veryHealthy</th>\n",
       "      <th>cheap</th>\n",
       "      <th>veryPopular</th>\n",
       "      <th>sustainable</th>\n",
       "      <th>lowFodmap</th>\n",
       "      <th>weightWatcherSmartPoints</th>\n",
       "      <th>...</th>\n",
       "      <th>diets</th>\n",
       "      <th>occasions</th>\n",
       "      <th>instructions</th>\n",
       "      <th>analyzedInstructions</th>\n",
       "      <th>sourceName</th>\n",
       "      <th>creditsText</th>\n",
       "      <th>originalId</th>\n",
       "      <th>spoonacularSourceUrl</th>\n",
       "      <th>license</th>\n",
       "      <th>author</th>\n",
       "    </tr>\n",
       "  </thead>\n",
       "  <tbody>\n",
       "    <tr>\n",
       "      <th>0</th>\n",
       "      <td>False</td>\n",
       "      <td>False</td>\n",
       "      <td>False</td>\n",
       "      <td>False</td>\n",
       "      <td>False</td>\n",
       "      <td>False</td>\n",
       "      <td>False</td>\n",
       "      <td>False</td>\n",
       "      <td>False</td>\n",
       "      <td>16</td>\n",
       "      <td>...</td>\n",
       "      <td>[pescatarian]</td>\n",
       "      <td>[]</td>\n",
       "      <td>Pat dry the swordfish. In a plate mix together...</td>\n",
       "      <td>[{'name': '', 'steps': [{'number': 1, 'step': ...</td>\n",
       "      <td>None</td>\n",
       "      <td>None</td>\n",
       "      <td>NaN</td>\n",
       "      <td>https://spoonacular.com/swordfish-with-orange-...</td>\n",
       "      <td>NaN</td>\n",
       "      <td>NaN</td>\n",
       "    </tr>\n",
       "    <tr>\n",
       "      <th>1</th>\n",
       "      <td>True</td>\n",
       "      <td>False</td>\n",
       "      <td>True</td>\n",
       "      <td>False</td>\n",
       "      <td>False</td>\n",
       "      <td>False</td>\n",
       "      <td>True</td>\n",
       "      <td>False</td>\n",
       "      <td>False</td>\n",
       "      <td>25</td>\n",
       "      <td>...</td>\n",
       "      <td>[gluten free, lacto ovo vegetarian]</td>\n",
       "      <td>[summer]</td>\n",
       "      <td></td>\n",
       "      <td>[]</td>\n",
       "      <td>Full Belly Sisters</td>\n",
       "      <td>Full Belly Sisters</td>\n",
       "      <td>NaN</td>\n",
       "      <td>https://spoonacular.com/cannoli-ice-cream-w-pi...</td>\n",
       "      <td>CC BY-SA 3.0</td>\n",
       "      <td>NaN</td>\n",
       "    </tr>\n",
       "    <tr>\n",
       "      <th>2</th>\n",
       "      <td>False</td>\n",
       "      <td>False</td>\n",
       "      <td>True</td>\n",
       "      <td>False</td>\n",
       "      <td>False</td>\n",
       "      <td>False</td>\n",
       "      <td>False</td>\n",
       "      <td>False</td>\n",
       "      <td>True</td>\n",
       "      <td>16</td>\n",
       "      <td>...</td>\n",
       "      <td>[gluten free, fodmap friendly]</td>\n",
       "      <td>[]</td>\n",
       "      <td>&lt;ol&gt;&lt;li&gt;For the brine, combine the water, salt...</td>\n",
       "      <td>[{'name': '', 'steps': [{'number': 1, 'step': ...</td>\n",
       "      <td>None</td>\n",
       "      <td>None</td>\n",
       "      <td>NaN</td>\n",
       "      <td>https://spoonacular.com/herb-roasted-chicken-6...</td>\n",
       "      <td>NaN</td>\n",
       "      <td>NaN</td>\n",
       "    </tr>\n",
       "    <tr>\n",
       "      <th>3</th>\n",
       "      <td>True</td>\n",
       "      <td>True</td>\n",
       "      <td>False</td>\n",
       "      <td>True</td>\n",
       "      <td>True</td>\n",
       "      <td>False</td>\n",
       "      <td>False</td>\n",
       "      <td>False</td>\n",
       "      <td>False</td>\n",
       "      <td>11</td>\n",
       "      <td>...</td>\n",
       "      <td>[dairy free, lacto ovo vegetarian, vegan]</td>\n",
       "      <td>[fall, winter]</td>\n",
       "      <td>&lt;ol&gt;&lt;li&gt;Heat oil in large saucepan over medium...</td>\n",
       "      <td>[{'name': '', 'steps': [{'number': 1, 'step': ...</td>\n",
       "      <td>None</td>\n",
       "      <td>None</td>\n",
       "      <td>NaN</td>\n",
       "      <td>https://spoonacular.com/moroccan-chickpea-and-...</td>\n",
       "      <td>NaN</td>\n",
       "      <td>NaN</td>\n",
       "    </tr>\n",
       "    <tr>\n",
       "      <th>4</th>\n",
       "      <td>False</td>\n",
       "      <td>False</td>\n",
       "      <td>True</td>\n",
       "      <td>True</td>\n",
       "      <td>True</td>\n",
       "      <td>False</td>\n",
       "      <td>False</td>\n",
       "      <td>False</td>\n",
       "      <td>False</td>\n",
       "      <td>9</td>\n",
       "      <td>...</td>\n",
       "      <td>[gluten free, dairy free, whole 30, pescatarian]</td>\n",
       "      <td>[]</td>\n",
       "      <td>Season the salmon fillets with some salt, pepp...</td>\n",
       "      <td>[{'name': '', 'steps': [{'number': 1, 'step': ...</td>\n",
       "      <td>None</td>\n",
       "      <td>None</td>\n",
       "      <td>NaN</td>\n",
       "      <td>https://spoonacular.com/salmon-with-roasted-ve...</td>\n",
       "      <td>NaN</td>\n",
       "      <td>NaN</td>\n",
       "    </tr>\n",
       "  </tbody>\n",
       "</table>\n",
       "<p>5 rows × 38 columns</p>\n",
       "</div>"
      ],
      "text/plain": [
       "   vegetarian  vegan  glutenFree  dairyFree  veryHealthy  cheap  veryPopular  \\\n",
       "0       False  False       False      False        False  False        False   \n",
       "1        True  False        True      False        False  False         True   \n",
       "2       False  False        True      False        False  False        False   \n",
       "3        True   True       False       True         True  False        False   \n",
       "4       False  False        True       True         True  False        False   \n",
       "\n",
       "   sustainable  lowFodmap  weightWatcherSmartPoints  ...  \\\n",
       "0        False      False                        16  ...   \n",
       "1        False      False                        25  ...   \n",
       "2        False       True                        16  ...   \n",
       "3        False      False                        11  ...   \n",
       "4        False      False                         9  ...   \n",
       "\n",
       "                                              diets       occasions  \\\n",
       "0                                     [pescatarian]              []   \n",
       "1               [gluten free, lacto ovo vegetarian]        [summer]   \n",
       "2                    [gluten free, fodmap friendly]              []   \n",
       "3         [dairy free, lacto ovo vegetarian, vegan]  [fall, winter]   \n",
       "4  [gluten free, dairy free, whole 30, pescatarian]              []   \n",
       "\n",
       "                                        instructions  \\\n",
       "0  Pat dry the swordfish. In a plate mix together...   \n",
       "1                                                      \n",
       "2  <ol><li>For the brine, combine the water, salt...   \n",
       "3  <ol><li>Heat oil in large saucepan over medium...   \n",
       "4  Season the salmon fillets with some salt, pepp...   \n",
       "\n",
       "                                analyzedInstructions          sourceName  \\\n",
       "0  [{'name': '', 'steps': [{'number': 1, 'step': ...                None   \n",
       "1                                                 []  Full Belly Sisters   \n",
       "2  [{'name': '', 'steps': [{'number': 1, 'step': ...                None   \n",
       "3  [{'name': '', 'steps': [{'number': 1, 'step': ...                None   \n",
       "4  [{'name': '', 'steps': [{'number': 1, 'step': ...                None   \n",
       "\n",
       "          creditsText originalId  \\\n",
       "0                None        NaN   \n",
       "1  Full Belly Sisters        NaN   \n",
       "2                None        NaN   \n",
       "3                None        NaN   \n",
       "4                None        NaN   \n",
       "\n",
       "                                spoonacularSourceUrl       license  author  \n",
       "0  https://spoonacular.com/swordfish-with-orange-...           NaN     NaN  \n",
       "1  https://spoonacular.com/cannoli-ice-cream-w-pi...  CC BY-SA 3.0     NaN  \n",
       "2  https://spoonacular.com/herb-roasted-chicken-6...           NaN     NaN  \n",
       "3  https://spoonacular.com/moroccan-chickpea-and-...           NaN     NaN  \n",
       "4  https://spoonacular.com/salmon-with-roasted-ve...           NaN     NaN  \n",
       "\n",
       "[5 rows x 38 columns]"
      ]
     },
     "execution_count": 42,
     "metadata": {},
     "output_type": "execute_result"
    }
   ],
   "source": [
    "import pandas as pd\n",
    "\n",
    "#! Add data to a dataframe\n",
    "df = pd.read_json('recipes.json', orient='records')\n",
    "df.head()"
   ]
  },
  {
   "cell_type": "code",
   "execution_count": 43,
   "metadata": {},
   "outputs": [
    {
     "name": "stdout",
     "output_type": "stream",
     "text": [
      "100\n",
      "20\n"
     ]
    }
   ],
   "source": [
    "\n",
    "#! Print data length\n",
    "print(len(data['recipes']))\n",
    "df_health = df.loc[df['healthScore'] >= 50]\n",
    "print(len(df_health))"
   ]
  },
  {
   "cell_type": "code",
   "execution_count": 44,
   "metadata": {},
   "outputs": [
    {
     "name": "stdout",
     "output_type": "stream",
     "text": [
      "Moroccan chickpea and lentil stew\n",
      "Salmon with roasted vegetables\n",
      "Chimichurri Skirt Steak with Grilled Asparagus\n",
      "Easy Vegetable Beef Soup\n",
      "Whole Wheat No-Yeast Pizza with Roasted Garlic, Sweet Potatoes, and Onions\n",
      "Chicken and Mango Skewer\n",
      "Super Speedy Spicy Sweet and Sour Shrimp\n",
      "Jean's Seafood Gumbo\n",
      "Chobani Harvest Fruit Salad\n",
      "Lime S’more Tartlets\n",
      "Easy Homemade Rice and Beans\n",
      "Cilantro Lime Halibut\n",
      "Seared Pork Chops W/ Mango Salsa\n",
      "Stuffed mushrooms and Chow Mein noodles\n",
      "Hummus and Za'atar\n",
      "Broccolini Quinoa Pilaf\n",
      "Balsamic & Honey Glazed Salmon with Lemony Asparagus\n",
      "Farro & Leek Soup\n",
      "Turkey and Rice Stuffed Acorn Squash\n",
      "Corn-Crusted Fish Tacos With Jalapeno-Lime Sauce and Spicy Black Beans\n",
      "Number of recipes: 20\n"
     ]
    }
   ],
   "source": [
    "number_recipes = 0\n",
    "#? show all titles of recipes\n",
    "# show all titles of recipes in df_health\n",
    "for recipe in df_health['title']:\n",
    "    print(recipe)\n",
    "    number_recipes += 1\n",
    "print(\"Number of recipes: \" + str(number_recipes))"
   ]
  },
  {
   "cell_type": "markdown",
   "metadata": {},
   "source": [
    "# Tests to acces images, instructions, ingredients, and recipes ..."
   ]
  },
  {
   "cell_type": "code",
   "execution_count": 45,
   "metadata": {},
   "outputs": [],
   "source": [
    "df = df_health"
   ]
  },
  {
   "cell_type": "code",
   "execution_count": 46,
   "metadata": {},
   "outputs": [
    {
     "name": "stdout",
     "output_type": "stream",
     "text": [
      "Moroccan chickpea and lentil stew\n",
      "Salmon with roasted vegetables\n",
      "Chimichurri Skirt Steak with Grilled Asparagus\n",
      "Easy Vegetable Beef Soup\n",
      "Whole Wheat No-Yeast Pizza with Roasted Garlic, Sweet Potatoes, and Onions\n",
      "Chicken and Mango Skewer\n",
      "Super Speedy Spicy Sweet and Sour Shrimp\n",
      "Jean's Seafood Gumbo\n",
      "Chobani Harvest Fruit Salad\n",
      "Lime S’more Tartlets\n",
      "Easy Homemade Rice and Beans\n",
      "Cilantro Lime Halibut\n",
      "Seared Pork Chops W/ Mango Salsa\n",
      "Stuffed mushrooms and Chow Mein noodles\n",
      "Hummus and Za'atar\n",
      "Broccolini Quinoa Pilaf\n",
      "Balsamic & Honey Glazed Salmon with Lemony Asparagus\n",
      "Farro & Leek Soup\n",
      "Turkey and Rice Stuffed Acorn Squash\n",
      "Corn-Crusted Fish Tacos With Jalapeno-Lime Sauce and Spicy Black Beans\n"
     ]
    }
   ],
   "source": [
    "\n",
    "#? Acces all titles of recipes in df\n",
    "for recipe in df['title']:\n",
    "    print(recipe)\n",
    "    number_recipes += 1"
   ]
  },
  {
   "cell_type": "code",
   "execution_count": 47,
   "metadata": {},
   "outputs": [
    {
     "name": "stdout",
     "output_type": "stream",
     "text": [
      "https://spoonacular.com/recipeImages/652417-556x370.jpg\n",
      "https://spoonacular.com/recipeImages/659135-556x370.jpg\n",
      "https://spoonacular.com/recipeImages/638626-556x370.jpg\n",
      "https://spoonacular.com/recipeImages/715447-556x370.jpg\n",
      "https://spoonacular.com/recipeImages/665294-556x370.jpg\n",
      "https://spoonacular.com/recipeImages/716330-556x370.jpg\n",
      "https://spoonacular.com/recipeImages/662363-556x370.jpg\n",
      "nan\n",
      "https://spoonacular.com/recipeImages/638779-556x370.jpg\n",
      "https://spoonacular.com/recipeImages/650092-556x370.jpg\n",
      "https://spoonacular.com/recipeImages/716627-556x370.jpg\n",
      "https://spoonacular.com/recipeImages/639411-556x370.jpg\n",
      "https://spoonacular.com/recipeImages/659674-556x370.jpg\n",
      "https://spoonacular.com/recipeImages/662054-556x370.jpg\n",
      "https://spoonacular.com/recipeImages/766453-556x370.jpg\n",
      "https://spoonacular.com/recipeImages/715769-556x370.jpg\n",
      "https://spoonacular.com/recipeImages/633921-556x370.jpg\n",
      "https://spoonacular.com/recipeImages/642597-556x370.jpg\n",
      "https://spoonacular.com/recipeImages/663985-556x370.jpg\n",
      "https://spoonacular.com/recipeImages/640117-556x370.jpg\n",
      "Number of recipes: 20\n"
     ]
    }
   ],
   "source": [
    "number_recipes = 0\n",
    "# print images of recipes\n",
    "for index, row in df.iterrows():\n",
    "    print(row['image'])\n",
    "    number_recipes += 1\n",
    "print(\"Number of recipes: \" + str(number_recipes))"
   ]
  },
  {
   "cell_type": "code",
   "execution_count": 48,
   "metadata": {},
   "outputs": [
    {
     "name": "stdout",
     "output_type": "stream",
     "text": [
      "96\n",
      "100\n",
      "66\n",
      "65\n",
      "100\n",
      "61\n",
      "51\n",
      "56\n",
      "52\n",
      "76\n",
      "60\n",
      "67\n",
      "55\n",
      "56\n",
      "100\n",
      "74\n",
      "80\n",
      "54\n",
      "54\n",
      "72\n"
     ]
    }
   ],
   "source": [
    "\n",
    "# print health score of recipes\n",
    "for index, row in df.iterrows():\n",
    "    print(row['healthScore'])"
   ]
  },
  {
   "cell_type": "code",
   "execution_count": 53,
   "metadata": {},
   "outputs": [
    {
     "name": "stdout",
     "output_type": "stream",
     "text": [
      "Index(['vegetarian', 'vegan', 'glutenFree', 'dairyFree', 'veryHealthy',\n",
      "       'cheap', 'veryPopular', 'sustainable', 'lowFodmap',\n",
      "       'weightWatcherSmartPoints', 'gaps', 'preparationMinutes',\n",
      "       'cookingMinutes', 'aggregateLikes', 'healthScore', 'pricePerServing',\n",
      "       'extendedIngredients', 'id', 'title', 'readyInMinutes', 'servings',\n",
      "       'sourceUrl', 'openLicense', 'image', 'imageType', 'summary', 'cuisines',\n",
      "       'dishTypes', 'diets', 'occasions', 'instructions',\n",
      "       'analyzedInstructions', 'sourceName', 'creditsText', 'originalId',\n",
      "       'spoonacularSourceUrl', 'license', 'author'],\n",
      "      dtype='object')\n"
     ]
    }
   ],
   "source": [
    "# print all names of columns\n",
    "print(df.columns)\n",
    "\n",
    "\n"
   ]
  },
  {
   "cell_type": "code",
   "execution_count": 49,
   "metadata": {},
   "outputs": [
    {
     "name": "stdout",
     "output_type": "stream",
     "text": [
      "Seared Pork Chops W/ Mango Salsa\n"
     ]
    }
   ],
   "source": [
    "recipe_title = df.sample(1)['title'].values[0]\n",
    "print(recipe_title)"
   ]
  },
  {
   "cell_type": "code",
   "execution_count": 54,
   "metadata": {},
   "outputs": [
    {
     "name": "stdout",
     "output_type": "stream",
     "text": [
      "<ol><li>In a large pan with lid heat olive oil over medium high heat. Add onions and cook for 1 minute. Add garlic and cook until onions are translucent and garlic is fragrant.</li><li>Add quinoa to pan, stir to combine. Slowly add in broth and bring to a boil.</li><li>Cover and reduce heat to low, cook for 15 minutes.</li><li>In the last 2-3 minutes of cooking add in broccolini on top of the quinoa (do not stir) and cover.</li><li>Uncover and toss broccolini and quinoa together.</li><li>Season to taste with salt and pepper.</li><li>Add walnuts and serve hot.</li></ol>\n"
     ]
    }
   ],
   "source": [
    "print(df.sample(1)['instructions'].values[0])"
   ]
  },
  {
   "cell_type": "markdown",
   "metadata": {},
   "source": [
    "# Recuperer recettes"
   ]
  },
  {
   "cell_type": "code",
   "execution_count": null,
   "metadata": {},
   "outputs": [],
   "source": [
    "\n",
    "#? For now, stores all recipes already proposed to the user\n",
    "list_recipes_id_used = []\n",
    "\n",
    "#! Function to return a random recipe not already proposed to the user\n",
    "def get_random_recipe():\n",
    "    #? Get a random recipe from the dataframe\n",
    "    random_recipe = df.sample(1)\n",
    "\n",
    "    #? Get the id of the recipe\n",
    "    id_recipe = random_recipe['id'].values[0]\n",
    "\n",
    "    #? Check if the recipe has already been proposed to the user\n",
    "    if id_recipe in list_recipes_id_used:\n",
    "        get_random_recipe()\n",
    "    else:\n",
    "        list_recipes_id_used.append(id_recipe)\n",
    "        return random_recipe\n",
    "\n",
    "#! ---------------------\n",
    "#! Get the recipe \n",
    "#! ---------------------\n",
    "recipe = get_random_recipe()\n",
    "# print recipe title\n",
    "data = {    \n",
    "    'title' : recipe['title'].values[0],\n",
    "    'image' : recipe['image'].values[0],\n",
    "    'healthScore' : recipe['healthScore'].values[0],\n",
    "}\n",
    "\n",
    "print(data)\n",
    "#! ---------------------"
   ]
  },
  {
   "cell_type": "markdown",
   "metadata": {},
   "source": [
    "# --------------------------------------------------"
   ]
  },
  {
   "cell_type": "markdown",
   "metadata": {},
   "source": [
    "> Store data in case limited by the api"
   ]
  },
  {
   "cell_type": "code",
   "execution_count": null,
   "metadata": {},
   "outputs": [],
   "source": [
    "data_stored = data"
   ]
  },
  {
   "cell_type": "markdown",
   "metadata": {},
   "source": [
    "> # Tests sur des DICT"
   ]
  },
  {
   "cell_type": "code",
   "execution_count": null,
   "metadata": {},
   "outputs": [],
   "source": [
    "print(data_stored)"
   ]
  },
  {
   "cell_type": "code",
   "execution_count": null,
   "metadata": {},
   "outputs": [],
   "source": [
    "# show details of the dict\n",
    "print(data_stored['recipes'][0]['title'])\n",
    "print(data_stored['recipes'][0]['image'])\n",
    "print(data_stored['recipes'][0]['sourceUrl'])\n",
    "print(data_stored['recipes'][0]['id'])\n",
    "print(data_stored['recipes'][0]['readyInMinutes'])\n",
    "print(data_stored['recipes'][0]['servings'])\n",
    "print(data_stored['recipes'][0]['summary'])\n",
    "print(data_stored['recipes'][0]['vegan'])\n",
    "print(\"Score Rating : \" , data_stored['recipes'][0]['spoonacularScore'])\n"
   ]
  },
  {
   "cell_type": "code",
   "execution_count": null,
   "metadata": {},
   "outputs": [],
   "source": [
    "\n",
    "#? show all titles of recipes\n",
    "for i in range(len(data_stored['recipes'])):\n",
    "    print(data_stored['recipes'][i]['title'])\n",
    "    "
   ]
  },
  {
   "cell_type": "markdown",
   "metadata": {},
   "source": [
    "> ## Find all ingredients of a recipe"
   ]
  },
  {
   "cell_type": "code",
   "execution_count": null,
   "metadata": {},
   "outputs": [],
   "source": [
    "\n",
    "#? Show all ingredients of a recipe by title\n",
    "def get_ingredients(title):\n",
    "    list_ingredients = []\n",
    "    for i in range(len(data_stored['recipes'])):\n",
    "        if data_stored['recipes'][i]['title'] == title:\n",
    "            for ingredient in data_stored['recipes'][i]['extendedIngredients']:\n",
    "                list_ingredients.append(ingredient['name'])\n",
    "    return list_ingredients\n",
    "\n",
    "print(get_ingredients('Vanilla Bean Melting Moment Cookies With Caramel Filling'))"
   ]
  },
  {
   "cell_type": "markdown",
   "metadata": {},
   "source": [
    "> ## Get the image of a recipe"
   ]
  },
  {
   "cell_type": "code",
   "execution_count": null,
   "metadata": {},
   "outputs": [],
   "source": [
    "def get_image(title):\n",
    "    for i in range(len(data_stored['recipes'])):\n",
    "        if data_stored['recipes'][i]['title'] == title:\n",
    "            return data_stored['recipes'][i]['image']\n",
    "\n",
    "get_image('Vanilla Bean Melting Moment Cookies With Caramel Filling')"
   ]
  },
  {
   "cell_type": "markdown",
   "metadata": {},
   "source": [
    "> # On a dict of 5 recipes ``data_5_recipes``"
   ]
  },
  {
   "cell_type": "code",
   "execution_count": null,
   "metadata": {},
   "outputs": [],
   "source": [
    "data_5_recipes = DONOTRUNTHISPLSSSS"
   ]
  },
  {
   "cell_type": "code",
   "execution_count": null,
   "metadata": {},
   "outputs": [],
   "source": [
    "\n",
    "#! print title of all recipes\n",
    "for i in range(len(data_5_recipes['recipes'])):\n",
    "    print(f\"Recipe {i+1}: \",data_5_recipes['recipes'][i]['title'])"
   ]
  },
  {
   "cell_type": "code",
   "execution_count": null,
   "metadata": {},
   "outputs": [],
   "source": [
    "\n",
    "# create a function who take a title as input and return "
   ]
  }
 ],
 "metadata": {
  "kernelspec": {
   "display_name": "Python 3.8.8 ('base')",
   "language": "python",
   "name": "python3"
  },
  "language_info": {
   "codemirror_mode": {
    "name": "ipython",
    "version": 3
   },
   "file_extension": ".py",
   "mimetype": "text/x-python",
   "name": "python",
   "nbconvert_exporter": "python",
   "pygments_lexer": "ipython3",
   "version": "3.8.8"
  },
  "orig_nbformat": 4,
  "vscode": {
   "interpreter": {
    "hash": "cee2a8bf78ed58fe7d4a6da4c01dc73c50fe79a52336feed85a35ce76368bd76"
   }
  }
 },
 "nbformat": 4,
 "nbformat_minor": 2
}
