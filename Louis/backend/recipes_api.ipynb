{
 "cells": [
  {
   "cell_type": "code",
   "execution_count": 1,
   "metadata": {},
   "outputs": [],
   "source": [
    "KEY = '16aa28a5518b47c2a54cadad4bead10e'"
   ]
  },
  {
   "cell_type": "code",
   "execution_count": 2,
   "metadata": {},
   "outputs": [],
   "source": [
    "import json\n",
    "import requests\n",
    "import pandas as pd"
   ]
  },
  {
   "cell_type": "code",
   "execution_count": 3,
   "metadata": {},
   "outputs": [],
   "source": [
    "\n",
    "#! To get a random recipe\n",
    "# url = \"https://api.spoonacular.com/recipes/random?number=1&tags=vegetarian,dessert&apiKey=\" + KEY\n",
    "\n",
    "#! To get multiples recipes\n",
    "url = \"https://api.spoonacular.com/recipes/random?number=100&tags=main course&apiKey=\" + KEY\n",
    "\n",
    "# url = \"https://api.spoonacular.com/recipes/complexSearch?number=10&sort=healthiness60&apiKey=\" + KEY\n"
   ]
  },
  {
   "cell_type": "code",
   "execution_count": 4,
   "metadata": {},
   "outputs": [],
   "source": [
    "try:\n",
    "    api_request = requests.get(url)\n",
    "    data = json.loads(api_request.content)\n",
    "except Exception as e:\n",
    "    print(\"ERROR: \" + str(e))"
   ]
  },
  {
   "cell_type": "code",
   "execution_count": 5,
   "metadata": {},
   "outputs": [],
   "source": [
    "\n",
    "#! Add data to a new json file\n",
    "with open('recipes.json', 'w') as f: \n",
    "    json.dump(data, f, indent=4)"
   ]
  },
  {
   "cell_type": "code",
   "execution_count": 6,
   "metadata": {},
   "outputs": [
    {
     "data": {
      "text/html": [
       "<div>\n",
       "<style scoped>\n",
       "    .dataframe tbody tr th:only-of-type {\n",
       "        vertical-align: middle;\n",
       "    }\n",
       "\n",
       "    .dataframe tbody tr th {\n",
       "        vertical-align: top;\n",
       "    }\n",
       "\n",
       "    .dataframe thead th {\n",
       "        text-align: right;\n",
       "    }\n",
       "</style>\n",
       "<table border=\"1\" class=\"dataframe\">\n",
       "  <thead>\n",
       "    <tr style=\"text-align: right;\">\n",
       "      <th></th>\n",
       "      <th>recipes</th>\n",
       "    </tr>\n",
       "  </thead>\n",
       "  <tbody>\n",
       "    <tr>\n",
       "      <th>0</th>\n",
       "      <td>{'vegetarian': False, 'vegan': False, 'glutenF...</td>\n",
       "    </tr>\n",
       "    <tr>\n",
       "      <th>1</th>\n",
       "      <td>{'vegetarian': False, 'vegan': False, 'glutenF...</td>\n",
       "    </tr>\n",
       "    <tr>\n",
       "      <th>2</th>\n",
       "      <td>{'vegetarian': False, 'vegan': False, 'glutenF...</td>\n",
       "    </tr>\n",
       "    <tr>\n",
       "      <th>3</th>\n",
       "      <td>{'vegetarian': False, 'vegan': False, 'glutenF...</td>\n",
       "    </tr>\n",
       "    <tr>\n",
       "      <th>4</th>\n",
       "      <td>{'vegetarian': False, 'vegan': False, 'glutenF...</td>\n",
       "    </tr>\n",
       "  </tbody>\n",
       "</table>\n",
       "</div>"
      ],
      "text/plain": [
       "                                             recipes\n",
       "0  {'vegetarian': False, 'vegan': False, 'glutenF...\n",
       "1  {'vegetarian': False, 'vegan': False, 'glutenF...\n",
       "2  {'vegetarian': False, 'vegan': False, 'glutenF...\n",
       "3  {'vegetarian': False, 'vegan': False, 'glutenF...\n",
       "4  {'vegetarian': False, 'vegan': False, 'glutenF..."
      ]
     },
     "execution_count": 6,
     "metadata": {},
     "output_type": "execute_result"
    }
   ],
   "source": [
    "\n",
    "\n",
    "#! Add data to a dataframe\n",
    "df = pd.read_json('recipes.json', orient='records')\n",
    "df.head()"
   ]
  },
  {
   "cell_type": "code",
   "execution_count": 7,
   "metadata": {},
   "outputs": [
    {
     "name": "stdout",
     "output_type": "stream",
     "text": [
      "100\n"
     ]
    },
    {
     "ename": "KeyError",
     "evalue": "'healthScore'",
     "output_type": "error",
     "traceback": [
      "\u001b[1;31m---------------------------------------------------------------------------\u001b[0m",
      "\u001b[1;31mKeyError\u001b[0m                                  Traceback (most recent call last)",
      "\u001b[1;32mc:\\Users\\louis\\anaconda3\\lib\\site-packages\\pandas\\core\\indexes\\base.py\u001b[0m in \u001b[0;36mget_loc\u001b[1;34m(self, key, method, tolerance)\u001b[0m\n\u001b[0;32m   3079\u001b[0m             \u001b[1;32mtry\u001b[0m\u001b[1;33m:\u001b[0m\u001b[1;33m\u001b[0m\u001b[1;33m\u001b[0m\u001b[0m\n\u001b[1;32m-> 3080\u001b[1;33m                 \u001b[1;32mreturn\u001b[0m \u001b[0mself\u001b[0m\u001b[1;33m.\u001b[0m\u001b[0m_engine\u001b[0m\u001b[1;33m.\u001b[0m\u001b[0mget_loc\u001b[0m\u001b[1;33m(\u001b[0m\u001b[0mcasted_key\u001b[0m\u001b[1;33m)\u001b[0m\u001b[1;33m\u001b[0m\u001b[1;33m\u001b[0m\u001b[0m\n\u001b[0m\u001b[0;32m   3081\u001b[0m             \u001b[1;32mexcept\u001b[0m \u001b[0mKeyError\u001b[0m \u001b[1;32mas\u001b[0m \u001b[0merr\u001b[0m\u001b[1;33m:\u001b[0m\u001b[1;33m\u001b[0m\u001b[1;33m\u001b[0m\u001b[0m\n",
      "\u001b[1;32mpandas\\_libs\\index.pyx\u001b[0m in \u001b[0;36mpandas._libs.index.IndexEngine.get_loc\u001b[1;34m()\u001b[0m\n",
      "\u001b[1;32mpandas\\_libs\\index.pyx\u001b[0m in \u001b[0;36mpandas._libs.index.IndexEngine.get_loc\u001b[1;34m()\u001b[0m\n",
      "\u001b[1;32mpandas\\_libs\\hashtable_class_helper.pxi\u001b[0m in \u001b[0;36mpandas._libs.hashtable.PyObjectHashTable.get_item\u001b[1;34m()\u001b[0m\n",
      "\u001b[1;32mpandas\\_libs\\hashtable_class_helper.pxi\u001b[0m in \u001b[0;36mpandas._libs.hashtable.PyObjectHashTable.get_item\u001b[1;34m()\u001b[0m\n",
      "\u001b[1;31mKeyError\u001b[0m: 'healthScore'",
      "\nThe above exception was the direct cause of the following exception:\n",
      "\u001b[1;31mKeyError\u001b[0m                                  Traceback (most recent call last)",
      "\u001b[1;32m<ipython-input-7-e8d7f7f2c227>\u001b[0m in \u001b[0;36m<module>\u001b[1;34m\u001b[0m\n\u001b[0;32m      1\u001b[0m \u001b[1;31m#! Print data length\u001b[0m\u001b[1;33m\u001b[0m\u001b[1;33m\u001b[0m\u001b[1;33m\u001b[0m\u001b[0m\n\u001b[0;32m      2\u001b[0m \u001b[0mprint\u001b[0m\u001b[1;33m(\u001b[0m\u001b[0mlen\u001b[0m\u001b[1;33m(\u001b[0m\u001b[0mdata\u001b[0m\u001b[1;33m[\u001b[0m\u001b[1;34m'recipes'\u001b[0m\u001b[1;33m]\u001b[0m\u001b[1;33m)\u001b[0m\u001b[1;33m)\u001b[0m\u001b[1;33m\u001b[0m\u001b[1;33m\u001b[0m\u001b[0m\n\u001b[1;32m----> 3\u001b[1;33m \u001b[0mdf_health\u001b[0m \u001b[1;33m=\u001b[0m \u001b[0mdf\u001b[0m\u001b[1;33m.\u001b[0m\u001b[0mloc\u001b[0m\u001b[1;33m[\u001b[0m\u001b[0mdf\u001b[0m\u001b[1;33m[\u001b[0m\u001b[1;34m'healthScore'\u001b[0m\u001b[1;33m]\u001b[0m \u001b[1;33m>=\u001b[0m \u001b[1;36m50\u001b[0m\u001b[1;33m]\u001b[0m\u001b[1;33m\u001b[0m\u001b[1;33m\u001b[0m\u001b[0m\n\u001b[0m\u001b[0;32m      4\u001b[0m \u001b[0mprint\u001b[0m\u001b[1;33m(\u001b[0m\u001b[0mlen\u001b[0m\u001b[1;33m(\u001b[0m\u001b[0mdf_health\u001b[0m\u001b[1;33m)\u001b[0m\u001b[1;33m)\u001b[0m\u001b[1;33m\u001b[0m\u001b[1;33m\u001b[0m\u001b[0m\n",
      "\u001b[1;32mc:\\Users\\louis\\anaconda3\\lib\\site-packages\\pandas\\core\\frame.py\u001b[0m in \u001b[0;36m__getitem__\u001b[1;34m(self, key)\u001b[0m\n\u001b[0;32m   3022\u001b[0m             \u001b[1;32mif\u001b[0m \u001b[0mself\u001b[0m\u001b[1;33m.\u001b[0m\u001b[0mcolumns\u001b[0m\u001b[1;33m.\u001b[0m\u001b[0mnlevels\u001b[0m \u001b[1;33m>\u001b[0m \u001b[1;36m1\u001b[0m\u001b[1;33m:\u001b[0m\u001b[1;33m\u001b[0m\u001b[1;33m\u001b[0m\u001b[0m\n\u001b[0;32m   3023\u001b[0m                 \u001b[1;32mreturn\u001b[0m \u001b[0mself\u001b[0m\u001b[1;33m.\u001b[0m\u001b[0m_getitem_multilevel\u001b[0m\u001b[1;33m(\u001b[0m\u001b[0mkey\u001b[0m\u001b[1;33m)\u001b[0m\u001b[1;33m\u001b[0m\u001b[1;33m\u001b[0m\u001b[0m\n\u001b[1;32m-> 3024\u001b[1;33m             \u001b[0mindexer\u001b[0m \u001b[1;33m=\u001b[0m \u001b[0mself\u001b[0m\u001b[1;33m.\u001b[0m\u001b[0mcolumns\u001b[0m\u001b[1;33m.\u001b[0m\u001b[0mget_loc\u001b[0m\u001b[1;33m(\u001b[0m\u001b[0mkey\u001b[0m\u001b[1;33m)\u001b[0m\u001b[1;33m\u001b[0m\u001b[1;33m\u001b[0m\u001b[0m\n\u001b[0m\u001b[0;32m   3025\u001b[0m             \u001b[1;32mif\u001b[0m \u001b[0mis_integer\u001b[0m\u001b[1;33m(\u001b[0m\u001b[0mindexer\u001b[0m\u001b[1;33m)\u001b[0m\u001b[1;33m:\u001b[0m\u001b[1;33m\u001b[0m\u001b[1;33m\u001b[0m\u001b[0m\n\u001b[0;32m   3026\u001b[0m                 \u001b[0mindexer\u001b[0m \u001b[1;33m=\u001b[0m \u001b[1;33m[\u001b[0m\u001b[0mindexer\u001b[0m\u001b[1;33m]\u001b[0m\u001b[1;33m\u001b[0m\u001b[1;33m\u001b[0m\u001b[0m\n",
      "\u001b[1;32mc:\\Users\\louis\\anaconda3\\lib\\site-packages\\pandas\\core\\indexes\\base.py\u001b[0m in \u001b[0;36mget_loc\u001b[1;34m(self, key, method, tolerance)\u001b[0m\n\u001b[0;32m   3080\u001b[0m                 \u001b[1;32mreturn\u001b[0m \u001b[0mself\u001b[0m\u001b[1;33m.\u001b[0m\u001b[0m_engine\u001b[0m\u001b[1;33m.\u001b[0m\u001b[0mget_loc\u001b[0m\u001b[1;33m(\u001b[0m\u001b[0mcasted_key\u001b[0m\u001b[1;33m)\u001b[0m\u001b[1;33m\u001b[0m\u001b[1;33m\u001b[0m\u001b[0m\n\u001b[0;32m   3081\u001b[0m             \u001b[1;32mexcept\u001b[0m \u001b[0mKeyError\u001b[0m \u001b[1;32mas\u001b[0m \u001b[0merr\u001b[0m\u001b[1;33m:\u001b[0m\u001b[1;33m\u001b[0m\u001b[1;33m\u001b[0m\u001b[0m\n\u001b[1;32m-> 3082\u001b[1;33m                 \u001b[1;32mraise\u001b[0m \u001b[0mKeyError\u001b[0m\u001b[1;33m(\u001b[0m\u001b[0mkey\u001b[0m\u001b[1;33m)\u001b[0m \u001b[1;32mfrom\u001b[0m \u001b[0merr\u001b[0m\u001b[1;33m\u001b[0m\u001b[1;33m\u001b[0m\u001b[0m\n\u001b[0m\u001b[0;32m   3083\u001b[0m \u001b[1;33m\u001b[0m\u001b[0m\n\u001b[0;32m   3084\u001b[0m         \u001b[1;32mif\u001b[0m \u001b[0mtolerance\u001b[0m \u001b[1;32mis\u001b[0m \u001b[1;32mnot\u001b[0m \u001b[1;32mNone\u001b[0m\u001b[1;33m:\u001b[0m\u001b[1;33m\u001b[0m\u001b[1;33m\u001b[0m\u001b[0m\n",
      "\u001b[1;31mKeyError\u001b[0m: 'healthScore'"
     ]
    }
   ],
   "source": [
    "\n",
    "#! Print data length\n",
    "print(len(data['recipes']))\n",
    "df_health = df.loc[df['healthScore'] >= 50]\n",
    "print(len(df_health))"
   ]
  },
  {
   "cell_type": "code",
   "execution_count": null,
   "metadata": {},
   "outputs": [
    {
     "name": "stdout",
     "output_type": "stream",
     "text": [
      "Moroccan chickpea and lentil stew\n",
      "Salmon with roasted vegetables\n",
      "Chimichurri Skirt Steak with Grilled Asparagus\n",
      "Easy Vegetable Beef Soup\n",
      "Whole Wheat No-Yeast Pizza with Roasted Garlic, Sweet Potatoes, and Onions\n",
      "Chicken and Mango Skewer\n",
      "Super Speedy Spicy Sweet and Sour Shrimp\n",
      "Jean's Seafood Gumbo\n",
      "Chobani Harvest Fruit Salad\n",
      "Lime S’more Tartlets\n",
      "Easy Homemade Rice and Beans\n",
      "Cilantro Lime Halibut\n",
      "Seared Pork Chops W/ Mango Salsa\n",
      "Stuffed mushrooms and Chow Mein noodles\n",
      "Hummus and Za'atar\n",
      "Broccolini Quinoa Pilaf\n",
      "Balsamic & Honey Glazed Salmon with Lemony Asparagus\n",
      "Farro & Leek Soup\n",
      "Turkey and Rice Stuffed Acorn Squash\n",
      "Corn-Crusted Fish Tacos With Jalapeno-Lime Sauce and Spicy Black Beans\n",
      "Number of recipes: 20\n"
     ]
    }
   ],
   "source": [
    "number_recipes = 0\n",
    "#? show all titles of recipes\n",
    "# show all titles of recipes in df_health\n",
    "for recipe in df_health['title']:\n",
    "    print(recipe)\n",
    "    number_recipes += 1\n",
    "print(\"Number of recipes: \" + str(number_recipes))"
   ]
  },
  {
   "cell_type": "markdown",
   "metadata": {},
   "source": [
    "# Tests to acces images, instructions, ingredients, and recipes ..."
   ]
  },
  {
   "cell_type": "code",
   "execution_count": null,
   "metadata": {},
   "outputs": [],
   "source": [
    "df = df_health"
   ]
  },
  {
   "cell_type": "code",
   "execution_count": null,
   "metadata": {},
   "outputs": [
    {
     "name": "stdout",
     "output_type": "stream",
     "text": [
      "Moroccan chickpea and lentil stew\n",
      "Salmon with roasted vegetables\n",
      "Chimichurri Skirt Steak with Grilled Asparagus\n",
      "Easy Vegetable Beef Soup\n",
      "Whole Wheat No-Yeast Pizza with Roasted Garlic, Sweet Potatoes, and Onions\n",
      "Chicken and Mango Skewer\n",
      "Super Speedy Spicy Sweet and Sour Shrimp\n",
      "Jean's Seafood Gumbo\n",
      "Chobani Harvest Fruit Salad\n",
      "Lime S’more Tartlets\n",
      "Easy Homemade Rice and Beans\n",
      "Cilantro Lime Halibut\n",
      "Seared Pork Chops W/ Mango Salsa\n",
      "Stuffed mushrooms and Chow Mein noodles\n",
      "Hummus and Za'atar\n",
      "Broccolini Quinoa Pilaf\n",
      "Balsamic & Honey Glazed Salmon with Lemony Asparagus\n",
      "Farro & Leek Soup\n",
      "Turkey and Rice Stuffed Acorn Squash\n",
      "Corn-Crusted Fish Tacos With Jalapeno-Lime Sauce and Spicy Black Beans\n"
     ]
    }
   ],
   "source": [
    "\n",
    "#? Acces all titles of recipes in df\n",
    "for recipe in df['title']:\n",
    "    print(recipe)\n",
    "    number_recipes += 1"
   ]
  },
  {
   "cell_type": "code",
   "execution_count": null,
   "metadata": {},
   "outputs": [
    {
     "name": "stdout",
     "output_type": "stream",
     "text": [
      "https://spoonacular.com/recipeImages/652417-556x370.jpg\n",
      "https://spoonacular.com/recipeImages/659135-556x370.jpg\n",
      "https://spoonacular.com/recipeImages/638626-556x370.jpg\n",
      "https://spoonacular.com/recipeImages/715447-556x370.jpg\n",
      "https://spoonacular.com/recipeImages/665294-556x370.jpg\n",
      "https://spoonacular.com/recipeImages/716330-556x370.jpg\n",
      "https://spoonacular.com/recipeImages/662363-556x370.jpg\n",
      "nan\n",
      "https://spoonacular.com/recipeImages/638779-556x370.jpg\n",
      "https://spoonacular.com/recipeImages/650092-556x370.jpg\n",
      "https://spoonacular.com/recipeImages/716627-556x370.jpg\n",
      "https://spoonacular.com/recipeImages/639411-556x370.jpg\n",
      "https://spoonacular.com/recipeImages/659674-556x370.jpg\n",
      "https://spoonacular.com/recipeImages/662054-556x370.jpg\n",
      "https://spoonacular.com/recipeImages/766453-556x370.jpg\n",
      "https://spoonacular.com/recipeImages/715769-556x370.jpg\n",
      "https://spoonacular.com/recipeImages/633921-556x370.jpg\n",
      "https://spoonacular.com/recipeImages/642597-556x370.jpg\n",
      "https://spoonacular.com/recipeImages/663985-556x370.jpg\n",
      "https://spoonacular.com/recipeImages/640117-556x370.jpg\n",
      "Number of recipes: 20\n"
     ]
    }
   ],
   "source": [
    "number_recipes = 0\n",
    "# print images of recipes\n",
    "for index, row in df.iterrows():\n",
    "    print(row['image'])\n",
    "    number_recipes += 1\n",
    "print(\"Number of recipes: \" + str(number_recipes))"
   ]
  },
  {
   "cell_type": "code",
   "execution_count": null,
   "metadata": {},
   "outputs": [
    {
     "name": "stdout",
     "output_type": "stream",
     "text": [
      "96\n",
      "100\n",
      "66\n",
      "65\n",
      "100\n",
      "61\n",
      "51\n",
      "56\n",
      "52\n",
      "76\n",
      "60\n",
      "67\n",
      "55\n",
      "56\n",
      "100\n",
      "74\n",
      "80\n",
      "54\n",
      "54\n",
      "72\n"
     ]
    }
   ],
   "source": [
    "\n",
    "# print health score of recipes\n",
    "for index, row in df.iterrows():\n",
    "    print(row['healthScore'])"
   ]
  },
  {
   "cell_type": "code",
   "execution_count": null,
   "metadata": {},
   "outputs": [
    {
     "name": "stdout",
     "output_type": "stream",
     "text": [
      "Index(['vegetarian', 'vegan', 'glutenFree', 'dairyFree', 'veryHealthy',\n",
      "       'cheap', 'veryPopular', 'sustainable', 'lowFodmap',\n",
      "       'weightWatcherSmartPoints', 'gaps', 'preparationMinutes',\n",
      "       'cookingMinutes', 'aggregateLikes', 'healthScore', 'pricePerServing',\n",
      "       'extendedIngredients', 'id', 'title', 'readyInMinutes', 'servings',\n",
      "       'sourceUrl', 'openLicense', 'image', 'imageType', 'summary', 'cuisines',\n",
      "       'dishTypes', 'diets', 'occasions', 'instructions',\n",
      "       'analyzedInstructions', 'sourceName', 'creditsText', 'originalId',\n",
      "       'spoonacularSourceUrl', 'license', 'author'],\n",
      "      dtype='object')\n"
     ]
    }
   ],
   "source": [
    "# print all names of columns\n",
    "print(df.columns)\n",
    "\n",
    "\n"
   ]
  },
  {
   "cell_type": "code",
   "execution_count": null,
   "metadata": {},
   "outputs": [
    {
     "name": "stdout",
     "output_type": "stream",
     "text": [
      "Seared Pork Chops W/ Mango Salsa\n"
     ]
    }
   ],
   "source": [
    "recipe_title = df.sample(1)['title'].values[0]\n",
    "print(recipe_title)"
   ]
  },
  {
   "cell_type": "code",
   "execution_count": null,
   "metadata": {},
   "outputs": [
    {
     "name": "stdout",
     "output_type": "stream",
     "text": [
      "<ol><li>In a large pan with lid heat olive oil over medium high heat. Add onions and cook for 1 minute. Add garlic and cook until onions are translucent and garlic is fragrant.</li><li>Add quinoa to pan, stir to combine. Slowly add in broth and bring to a boil.</li><li>Cover and reduce heat to low, cook for 15 minutes.</li><li>In the last 2-3 minutes of cooking add in broccolini on top of the quinoa (do not stir) and cover.</li><li>Uncover and toss broccolini and quinoa together.</li><li>Season to taste with salt and pepper.</li><li>Add walnuts and serve hot.</li></ol>\n"
     ]
    }
   ],
   "source": [
    "print(df.sample(1)['instructions'].values[0])"
   ]
  },
  {
   "cell_type": "markdown",
   "metadata": {},
   "source": [
    "# Recuperer recettes"
   ]
  },
  {
   "cell_type": "code",
   "execution_count": null,
   "metadata": {},
   "outputs": [],
   "source": [
    "\n",
    "#? For now, stores all recipes already proposed to the user\n",
    "list_recipes_id_used = []\n",
    "\n",
    "#! Function to return a random recipe not already proposed to the user\n",
    "def get_random_recipe():\n",
    "    #? Get a random recipe from the dataframe\n",
    "    random_recipe = df.sample(1)\n",
    "\n",
    "    #? Get the id of the recipe\n",
    "    id_recipe = random_recipe['id'].values[0]\n",
    "\n",
    "    #? Check if the recipe has already been proposed to the user\n",
    "    if id_recipe in list_recipes_id_used:\n",
    "        get_random_recipe()\n",
    "    else:\n",
    "        list_recipes_id_used.append(id_recipe)\n",
    "        return random_recipe\n",
    "\n",
    "#! ---------------------\n",
    "#! Get the recipe \n",
    "#! ---------------------\n",
    "recipe = get_random_recipe()\n",
    "# print recipe title\n",
    "data = {    \n",
    "    'title' : recipe['title'].values[0],\n",
    "    'image' : recipe['image'].values[0],\n",
    "    'healthScore' : recipe['healthScore'].values[0],\n",
    "}\n",
    "\n",
    "print(data)\n",
    "#! ---------------------"
   ]
  },
  {
   "cell_type": "markdown",
   "metadata": {},
   "source": [
    "# --------------------------------------------------"
   ]
  },
  {
   "cell_type": "markdown",
   "metadata": {},
   "source": [
    "> Store data in case limited by the api"
   ]
  },
  {
   "cell_type": "code",
   "execution_count": null,
   "metadata": {},
   "outputs": [],
   "source": [
    "data_stored = data"
   ]
  },
  {
   "cell_type": "markdown",
   "metadata": {},
   "source": [
    "> # Tests sur des DICT"
   ]
  },
  {
   "cell_type": "code",
   "execution_count": null,
   "metadata": {},
   "outputs": [],
   "source": [
    "print(data_stored)"
   ]
  },
  {
   "cell_type": "code",
   "execution_count": null,
   "metadata": {},
   "outputs": [],
   "source": [
    "# show details of the dict\n",
    "print(data_stored['recipes'][0]['title'])\n",
    "print(data_stored['recipes'][0]['image'])\n",
    "print(data_stored['recipes'][0]['sourceUrl'])\n",
    "print(data_stored['recipes'][0]['id'])\n",
    "print(data_stored['recipes'][0]['readyInMinutes'])\n",
    "print(data_stored['recipes'][0]['servings'])\n",
    "print(data_stored['recipes'][0]['summary'])\n",
    "print(data_stored['recipes'][0]['vegan'])\n",
    "print(\"Score Rating : \" , data_stored['recipes'][0]['spoonacularScore'])\n"
   ]
  },
  {
   "cell_type": "code",
   "execution_count": null,
   "metadata": {},
   "outputs": [],
   "source": [
    "\n",
    "#? show all titles of recipes\n",
    "for i in range(len(data_stored['recipes'])):\n",
    "    print(data_stored['recipes'][i]['title'])\n",
    "    "
   ]
  },
  {
   "cell_type": "markdown",
   "metadata": {},
   "source": [
    "> ## Find all ingredients of a recipe"
   ]
  },
  {
   "cell_type": "code",
   "execution_count": null,
   "metadata": {},
   "outputs": [],
   "source": [
    "\n",
    "#? Show all ingredients of a recipe by title\n",
    "def get_ingredients(title):\n",
    "    list_ingredients = []\n",
    "    for i in range(len(data_stored['recipes'])):\n",
    "        if data_stored['recipes'][i]['title'] == title:\n",
    "            for ingredient in data_stored['recipes'][i]['extendedIngredients']:\n",
    "                list_ingredients.append(ingredient['name'])\n",
    "    return list_ingredients\n",
    "\n",
    "print(get_ingredients('Vanilla Bean Melting Moment Cookies With Caramel Filling'))"
   ]
  },
  {
   "cell_type": "markdown",
   "metadata": {},
   "source": [
    "> ## Get the image of a recipe"
   ]
  },
  {
   "cell_type": "code",
   "execution_count": null,
   "metadata": {},
   "outputs": [],
   "source": [
    "def get_image(title):\n",
    "    for i in range(len(data_stored['recipes'])):\n",
    "        if data_stored['recipes'][i]['title'] == title:\n",
    "            return data_stored['recipes'][i]['image']\n",
    "\n",
    "get_image('Vanilla Bean Melting Moment Cookies With Caramel Filling')"
   ]
  },
  {
   "cell_type": "markdown",
   "metadata": {},
   "source": [
    "> # On a dict of 5 recipes ``data_5_recipes``"
   ]
  },
  {
   "cell_type": "code",
   "execution_count": null,
   "metadata": {},
   "outputs": [],
   "source": [
    "data_5_recipes = DONOTRUNTHISPLSSSS"
   ]
  },
  {
   "cell_type": "code",
   "execution_count": null,
   "metadata": {},
   "outputs": [],
   "source": [
    "\n",
    "#! print title of all recipes\n",
    "for i in range(len(data_5_recipes['recipes'])):\n",
    "    print(f\"Recipe {i+1}: \",data_5_recipes['recipes'][i]['title'])"
   ]
  },
  {
   "cell_type": "code",
   "execution_count": null,
   "metadata": {},
   "outputs": [],
   "source": [
    "\n",
    "# create a function who take a title as input and return "
   ]
  },
  {
   "cell_type": "markdown",
   "metadata": {},
   "source": [
    "> # test to get all recipes with same id and store them in a dict (for list of recipes liked)"
   ]
  },
  {
   "cell_type": "code",
   "execution_count": 11,
   "metadata": {},
   "outputs": [
    {
     "data": {
      "text/plain": [
       "{0: {'id': 659135,\n",
       "  'title': 'Salmon with roasted vegetables',\n",
       "  'healthScore': 100,\n",
       "  'preparationTime': 45,\n",
       "  'nbrServings': 2,\n",
       "  'image': 'https://spoonacular.com/recipeImages/659135-556x370.jpg'}}"
      ]
     },
     "execution_count": 11,
     "metadata": {},
     "output_type": "execute_result"
    }
   ],
   "source": [
    "\n",
    "#? Add data to a dataframe\n",
    "df = pd.read_json('recipes.json', orient='records')\n",
    "\n",
    "#? Keep only recipes with healthscore > (the value could be higher for healthier recipes but we are currently limited to the API)\n",
    "df = df.loc[df['healthScore'] >= 50]\n",
    "\n",
    "#! list of ids of recipes\n",
    "list_recipes_id_liked = [652417 , 659135 , 665294 , 715447]\n",
    "\n",
    "#? We create a dict who will contain all the recipes infos so we can show them on the site\n",
    "recipes_infos = {}\n",
    "\n",
    "#? We now add the name, the healthscore, the preparation time and the image of each recipe to the dict\n",
    "i = 0\n",
    "for index, row in df.iterrows():\n",
    "    if row['id'] in list_recipes_id_liked:\n",
    "        recipes_infos[i] = {\n",
    "            'id' : row['id'],\n",
    "            'title': row['title'],\n",
    "            'healthScore': row['healthScore'],\n",
    "            'preparationTime': row['readyInMinutes'], \n",
    "            'nbrServings': row['servings'],\n",
    "            'image': row['image']\n",
    "        }\n",
    "        i += 1\n",
    "\n",
    "\n",
    "recipes_infos"
   ]
  }
 ],
 "metadata": {
  "kernelspec": {
   "display_name": "Python 3.8.8 ('base')",
   "language": "python",
   "name": "python3"
  },
  "language_info": {
   "codemirror_mode": {
    "name": "ipython",
    "version": 3
   },
   "file_extension": ".py",
   "mimetype": "text/x-python",
   "name": "python",
   "nbconvert_exporter": "python",
   "pygments_lexer": "ipython3",
   "version": "3.8.8"
  },
  "orig_nbformat": 4,
  "vscode": {
   "interpreter": {
    "hash": "cee2a8bf78ed58fe7d4a6da4c01dc73c50fe79a52336feed85a35ce76368bd76"
   }
  }
 },
 "nbformat": 4,
 "nbformat_minor": 2
}
